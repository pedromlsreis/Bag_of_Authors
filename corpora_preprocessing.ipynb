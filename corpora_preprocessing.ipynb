{
 "cells": [
  {
   "cell_type": "code",
   "execution_count": 1,
   "metadata": {},
   "outputs": [],
   "source": [
    "# import libraries\n",
    "import os, sys\n",
    "import string\n",
    "import pandas as pd\n",
    "try:\n",
    "    import nltk\n",
    "except:\n",
    "    !conda install --yes --prefix {sys.prefix} nltk\n",
    "    import nltk\n",
    "\n",
    "# import modules\n",
    "from utils.preprocessing import get_dataframe, label_encoding"
   ]
  },
  {
   "cell_type": "code",
   "execution_count": 27,
   "metadata": {},
   "outputs": [],
   "source": [
    "# from sklearn.tree import DecisionTreeClassifier"
   ]
  },
  {
   "cell_type": "code",
   "execution_count": 2,
   "metadata": {},
   "outputs": [],
   "source": [
    "forced = [\"comma_per_word\"]"
   ]
  },
  {
   "cell_type": "markdown",
   "metadata": {},
   "source": [
    "### 1) File Exploration"
   ]
  },
  {
   "cell_type": "code",
   "execution_count": 3,
   "metadata": {
    "scrolled": false
   },
   "outputs": [
    {
     "data": {
      "text/plain": [
       "['.git',\n",
       " '.gitignore',\n",
       " '.ipynb_checkpoints',\n",
       " 'BOA_project_description.pdf',\n",
       " 'corpora',\n",
       " 'corpora_preprocessing.ipynb',\n",
       " 'LICENSE',\n",
       " 'README.md',\n",
       " 'requirements.txt',\n",
       " 'utils']"
      ]
     },
     "execution_count": 3,
     "metadata": {},
     "output_type": "execute_result"
    }
   ],
   "source": [
    "# ver conteúdos da pasta\n",
    "os.listdir()"
   ]
  },
  {
   "cell_type": "code",
   "execution_count": 4,
   "metadata": {
    "scrolled": true
   },
   "outputs": [
    {
     "data": {
      "text/plain": [
       "['AlmadaNegreiros',\n",
       " 'CamiloCasteloBranco',\n",
       " 'EcaDeQueiros',\n",
       " 'JoseRodriguesSantos',\n",
       " 'JoseSaramago',\n",
       " 'LuisaMarquesSilva']"
      ]
     },
     "execution_count": 4,
     "metadata": {},
     "output_type": "execute_result"
    }
   ],
   "source": [
    "authors = os.listdir(\"corpora/train\")\n",
    "authors"
   ]
  },
  {
   "cell_type": "code",
   "execution_count": 5,
   "metadata": {
    "scrolled": true
   },
   "outputs": [
    {
     "name": "stdout",
     "output_type": "stream",
     "text": [
      "corpora/train/AlmadaNegreiros/pg22615.txt\n",
      "corpora/train/AlmadaNegreiros/pg22730.txt\n",
      "corpora/train/AlmadaNegreiros/pg22801.txt\n",
      "corpora/train/AlmadaNegreiros/pg22802.txt\n",
      "corpora/train/AlmadaNegreiros/pg22969.txt\n",
      "corpora/train/AlmadaNegreiros/pg23133.txt\n",
      "corpora/train/AlmadaNegreiros/pg23620.txt\n",
      "corpora/train/AlmadaNegreiros/pg23879.txt\n",
      "corpora/train/AlmadaNegreiros/pg23961.txt\n",
      "corpora/train/CamiloCasteloBranco/24691-0.txt\n",
      "corpora/train/CamiloCasteloBranco/34756-0.txt\n",
      "corpora/train/CamiloCasteloBranco/pg16425.txt\n",
      "corpora/train/CamiloCasteloBranco/pg17927.txt\n",
      "corpora/train/CamiloCasteloBranco/pg19375.txt\n",
      "corpora/train/CamiloCasteloBranco/pg21406.txt\n",
      "corpora/train/CamiloCasteloBranco/pg23203.txt\n",
      "corpora/train/CamiloCasteloBranco/pg23345.txt\n",
      "corpora/train/CamiloCasteloBranco/pg23346.txt\n",
      "corpora/train/CamiloCasteloBranco/pg24339.txt\n",
      "corpora/train/CamiloCasteloBranco/pg25844.txt\n",
      "corpora/train/CamiloCasteloBranco/pg26017.txt\n",
      "corpora/train/CamiloCasteloBranco/pg26103.txt\n",
      "corpora/train/CamiloCasteloBranco/pg26110.txt\n",
      "corpora/train/CamiloCasteloBranco/pg26988.txt\n",
      "corpora/train/CamiloCasteloBranco/pg27364.txt\n",
      "corpora/train/CamiloCasteloBranco/pg27541.txt\n",
      "corpora/train/CamiloCasteloBranco/pg28310.txt\n",
      "corpora/train/CamiloCasteloBranco/pg31694.txt\n",
      "corpora/train/CamiloCasteloBranco/pg33788.txt\n",
      "corpora/train/EcaDeQueiros/pg18220.txt\n",
      "corpora/train/EcaDeQueiros/pg25641.txt\n",
      "corpora/train/EcaDeQueiros/pg27637.txt\n",
      "corpora/train/EcaDeQueiros/pg31347.txt\n",
      "corpora/train/EcaDeQueiros/pg40409.txt\n",
      "corpora/train/JoseRodriguesSantos/A Filha Do Capitao - Jose Rodrigues dos Santos.txt\n",
      "corpora/train/JoseRodriguesSantos/A Formula De Deus - Jose Rodrigues dos Santos.txt\n",
      "corpora/train/JoseRodriguesSantos/A Mao do Diabo - Jose Rodrigues dos Santos.txt\n",
      "corpora/train/JoseRodriguesSantos/A Vida Num Sopro - Jose Rodrigues dos Santos.txt\n",
      "corpora/train/JoseRodriguesSantos/Furia Divina - Jose Rodrigues dos Santos.txt\n",
      "corpora/train/JoseRodriguesSantos/O Anjo Branco - Jose Rodrigues dos Santos.txt\n",
      "corpora/train/JoseRodriguesSantos/O Setimo Selo - Jose Rodrigues dos Santos.txt\n",
      "corpora/train/JoseRodriguesSantos/O ultimo Segredo - Jose Rodrigues dos Santos.txt\n",
      "corpora/train/JoseSaramago/A Caverna - Jose Saramago.txt\n",
      "corpora/train/JoseSaramago/As Intermitencias da Morte - Jose Saramago.txt\n",
      "corpora/train/JoseSaramago/Caim - Jose Saramago.txt\n",
      "corpora/train/JoseSaramago/Claraboia - Jose Saramago.txt\n",
      "corpora/train/JoseSaramago/Ensaio Sobre a Cegueira - Jose Saramago.txt\n",
      "corpora/train/JoseSaramago/Historia Do Cerco De Lisboa - Jose Saramago.txt\n",
      "corpora/train/JoseSaramago/Memorial Do Convento - Jose Saramago.txt\n",
      "corpora/train/JoseSaramago/O Ano Da Morte De Ricardo Reis - Jose Saramago.txt\n",
      "corpora/train/JoseSaramago/O Conto Da Ilha Desconhecida - Jose Saramago.txt\n",
      "corpora/train/JoseSaramago/O Homem Duplicado - Jose Saramago.txt\n",
      "corpora/train/JoseSaramago/Terra Do Pecado - Jose Saramago.txt\n",
      "corpora/train/JoseSaramago/Viagem Do Elefante - Jose Saramago.txt\n",
      "corpora/train/LuisaMarquesSilva/ABelaHistoria.txt\n",
      "corpora/train/LuisaMarquesSilva/acabouSe.txt\n",
      "corpora/train/LuisaMarquesSilva/Botão.txt\n",
      "corpora/train/LuisaMarquesSilva/controlz.txt\n",
      "corpora/train/LuisaMarquesSilva/emedo.txt\n",
      "corpora/train/LuisaMarquesSilva/Lisboa2050.txt\n",
      "corpora/train/LuisaMarquesSilva/passeioInferno.txt\n",
      "corpora/train/LuisaMarquesSilva/rapsodiasemdo.txt\n",
      "corpora/train/LuisaMarquesSilva/UltimaHistoria.txt\n"
     ]
    }
   ],
   "source": [
    "for author in authors:\n",
    "    for excerto in [x for x in os.listdir(f\"corpora/train/{author}\") if x.endswith(\".txt\")]:\n",
    "        print(f\"corpora/train/{author}/{excerto}\")"
   ]
  },
  {
   "cell_type": "markdown",
   "metadata": {},
   "source": [
    "___\n",
    "### 2) Train"
   ]
  },
  {
   "cell_type": "code",
   "execution_count": 6,
   "metadata": {
    "scrolled": false
   },
   "outputs": [],
   "source": [
    "train = get_dataframe(path_to_train=\"corpora/train/\", author_list=authors,\n",
    "                      preserve_blank_lines=False, join_every_line=True,\n",
    "                      separator=\" \")"
   ]
  },
  {
   "cell_type": "code",
   "execution_count": 7,
   "metadata": {},
   "outputs": [
    {
     "data": {
      "text/html": [
       "<div>\n",
       "<style scoped>\n",
       "    .dataframe tbody tr th:only-of-type {\n",
       "        vertical-align: middle;\n",
       "    }\n",
       "\n",
       "    .dataframe tbody tr th {\n",
       "        vertical-align: top;\n",
       "    }\n",
       "\n",
       "    .dataframe thead th {\n",
       "        text-align: right;\n",
       "    }\n",
       "</style>\n",
       "<table border=\"1\" class=\"dataframe\">\n",
       "  <thead>\n",
       "    <tr style=\"text-align: right;\">\n",
       "      <th></th>\n",
       "      <th>text</th>\n",
       "      <th>author</th>\n",
       "      <th>comma_count</th>\n",
       "      <th>word_count</th>\n",
       "      <th>char_count</th>\n",
       "      <th>comma_per_word</th>\n",
       "    </tr>\n",
       "  </thead>\n",
       "  <tbody>\n",
       "    <tr>\n",
       "      <td>0</td>\n",
       "      <td>Title: A Scena do Odio Author: José de Almada ...</td>\n",
       "      <td>AlmadaNegreiros</td>\n",
       "      <td>118</td>\n",
       "      <td>1777</td>\n",
       "      <td>10807</td>\n",
       "      <td>0.066404</td>\n",
       "    </tr>\n",
       "    <tr>\n",
       "      <td>1</td>\n",
       "      <td>Title: O Jardim da Pierrette Author: José de A...</td>\n",
       "      <td>AlmadaNegreiros</td>\n",
       "      <td>7</td>\n",
       "      <td>318</td>\n",
       "      <td>1910</td>\n",
       "      <td>0.022013</td>\n",
       "    </tr>\n",
       "    <tr>\n",
       "      <td>2</td>\n",
       "      <td>Title: A Invenção do Dia Claro Author: José de...</td>\n",
       "      <td>AlmadaNegreiros</td>\n",
       "      <td>264</td>\n",
       "      <td>6038</td>\n",
       "      <td>33745</td>\n",
       "      <td>0.043723</td>\n",
       "    </tr>\n",
       "    <tr>\n",
       "      <td>3</td>\n",
       "      <td>Title: Litoral A Amadeo de Souza Cardozo Autho...</td>\n",
       "      <td>AlmadaNegreiros</td>\n",
       "      <td>1</td>\n",
       "      <td>655</td>\n",
       "      <td>4166</td>\n",
       "      <td>0.001527</td>\n",
       "    </tr>\n",
       "    <tr>\n",
       "      <td>4</td>\n",
       "      <td>EXPOSIÇÃO +amadeo de souza cardoso+ LIGA NAVAL...</td>\n",
       "      <td>AlmadaNegreiros</td>\n",
       "      <td>29</td>\n",
       "      <td>579</td>\n",
       "      <td>3418</td>\n",
       "      <td>0.050086</td>\n",
       "    </tr>\n",
       "  </tbody>\n",
       "</table>\n",
       "</div>"
      ],
      "text/plain": [
       "                                                text           author  \\\n",
       "0  Title: A Scena do Odio Author: José de Almada ...  AlmadaNegreiros   \n",
       "1  Title: O Jardim da Pierrette Author: José de A...  AlmadaNegreiros   \n",
       "2  Title: A Invenção do Dia Claro Author: José de...  AlmadaNegreiros   \n",
       "3  Title: Litoral A Amadeo de Souza Cardozo Autho...  AlmadaNegreiros   \n",
       "4  EXPOSIÇÃO +amadeo de souza cardoso+ LIGA NAVAL...  AlmadaNegreiros   \n",
       "\n",
       "   comma_count  word_count  char_count  comma_per_word  \n",
       "0          118        1777       10807        0.066404  \n",
       "1            7         318        1910        0.022013  \n",
       "2          264        6038       33745        0.043723  \n",
       "3            1         655        4166        0.001527  \n",
       "4           29         579        3418        0.050086  "
      ]
     },
     "execution_count": 7,
     "metadata": {},
     "output_type": "execute_result"
    }
   ],
   "source": [
    "# add new features\n",
    "train['comma_count'] = train[\"text\"].str.count(\",\")\n",
    "train[\"word_count\"] = train['text'].str.split().str.len()\n",
    "train['char_count'] = train[\"text\"].str.len()\n",
    "train[\"comma_per_word\"] = train['comma_count']/train[\"word_count\"]\n",
    "\n",
    "train.head()"
   ]
  },
  {
   "cell_type": "code",
   "execution_count": 8,
   "metadata": {},
   "outputs": [],
   "source": [
    "# codificação da coluna y para fornecer ao futuro modelo\n",
    "train, le = label_encoding(train, \"author\")"
   ]
  },
  {
   "cell_type": "code",
   "execution_count": 9,
   "metadata": {},
   "outputs": [],
   "source": [
    "def remove_punctuation(text):\n",
    "    \"\"\"\n",
    "        Greedy removal of all the punctuation from a list of text lines.\n",
    "        However, it also removes the email and website punctuation, making\n",
    "        them hard to recognise.\n",
    "        Returns a list of text lines without punctuation.\n",
    "    \"\"\"\n",
    "    no_punct_text = []\n",
    "    for line in text:\n",
    "        no_punct = \"\".join([char for char in line if char not in string.punctuation])\n",
    "        no_punct_text.append(no_punct)\n",
    "    return \"\".join(no_punct_text)\n",
    "\n",
    "\n",
    "# cada vez que uma nova função for criada, introduzi-la em \"clean_text()\"\n",
    "def clean_text(df, text_col=str):\n",
    "    \"\"\"\n",
    "        Compiles all the preprocessing functions inside a single function.\n",
    "    \"\"\"\n",
    "    df[text_col] = df[text_col].apply(remove_punctuation)\n",
    "    return df"
   ]
  },
  {
   "cell_type": "code",
   "execution_count": 10,
   "metadata": {
    "scrolled": true
   },
   "outputs": [
    {
     "data": {
      "text/html": [
       "<div>\n",
       "<style scoped>\n",
       "    .dataframe tbody tr th:only-of-type {\n",
       "        vertical-align: middle;\n",
       "    }\n",
       "\n",
       "    .dataframe tbody tr th {\n",
       "        vertical-align: top;\n",
       "    }\n",
       "\n",
       "    .dataframe thead th {\n",
       "        text-align: right;\n",
       "    }\n",
       "</style>\n",
       "<table border=\"1\" class=\"dataframe\">\n",
       "  <thead>\n",
       "    <tr style=\"text-align: right;\">\n",
       "      <th></th>\n",
       "      <th>text</th>\n",
       "      <th>author</th>\n",
       "      <th>comma_count</th>\n",
       "      <th>word_count</th>\n",
       "      <th>char_count</th>\n",
       "      <th>comma_per_word</th>\n",
       "    </tr>\n",
       "  </thead>\n",
       "  <tbody>\n",
       "    <tr>\n",
       "      <td>0</td>\n",
       "      <td>Title A Scena do Odio Author José de Almada Ne...</td>\n",
       "      <td>0</td>\n",
       "      <td>118</td>\n",
       "      <td>1777</td>\n",
       "      <td>10807</td>\n",
       "      <td>0.066404</td>\n",
       "    </tr>\n",
       "    <tr>\n",
       "      <td>1</td>\n",
       "      <td>Title O Jardim da Pierrette Author José de Alm...</td>\n",
       "      <td>0</td>\n",
       "      <td>7</td>\n",
       "      <td>318</td>\n",
       "      <td>1910</td>\n",
       "      <td>0.022013</td>\n",
       "    </tr>\n",
       "    <tr>\n",
       "      <td>2</td>\n",
       "      <td>Title A Invenção do Dia Claro Author José de A...</td>\n",
       "      <td>0</td>\n",
       "      <td>264</td>\n",
       "      <td>6038</td>\n",
       "      <td>33745</td>\n",
       "      <td>0.043723</td>\n",
       "    </tr>\n",
       "    <tr>\n",
       "      <td>3</td>\n",
       "      <td>Title Litoral A Amadeo de Souza Cardozo Author...</td>\n",
       "      <td>0</td>\n",
       "      <td>1</td>\n",
       "      <td>655</td>\n",
       "      <td>4166</td>\n",
       "      <td>0.001527</td>\n",
       "    </tr>\n",
       "    <tr>\n",
       "      <td>4</td>\n",
       "      <td>EXPOSIÇÃO amadeo de souza cardoso LIGA NAVAL D...</td>\n",
       "      <td>0</td>\n",
       "      <td>29</td>\n",
       "      <td>579</td>\n",
       "      <td>3418</td>\n",
       "      <td>0.050086</td>\n",
       "    </tr>\n",
       "  </tbody>\n",
       "</table>\n",
       "</div>"
      ],
      "text/plain": [
       "                                                text  author  comma_count  \\\n",
       "0  Title A Scena do Odio Author José de Almada Ne...       0          118   \n",
       "1  Title O Jardim da Pierrette Author José de Alm...       0            7   \n",
       "2  Title A Invenção do Dia Claro Author José de A...       0          264   \n",
       "3  Title Litoral A Amadeo de Souza Cardozo Author...       0            1   \n",
       "4  EXPOSIÇÃO amadeo de souza cardoso LIGA NAVAL D...       0           29   \n",
       "\n",
       "   word_count  char_count  comma_per_word  \n",
       "0        1777       10807        0.066404  \n",
       "1         318        1910        0.022013  \n",
       "2        6038       33745        0.043723  \n",
       "3         655        4166        0.001527  \n",
       "4         579        3418        0.050086  "
      ]
     },
     "execution_count": 10,
     "metadata": {},
     "output_type": "execute_result"
    }
   ],
   "source": [
    "train = clean_text(train, \"text\")\n",
    "train.head()"
   ]
  },
  {
   "cell_type": "code",
   "execution_count": 11,
   "metadata": {},
   "outputs": [],
   "source": [
    "# # TODO cols:  \n",
    "# train[\"punctuation\"] = 0\n",
    "# train[\"reticências\"] = 0"
   ]
  },
  {
   "cell_type": "code",
   "execution_count": 12,
   "metadata": {
    "scrolled": true
   },
   "outputs": [
    {
     "data": {
      "text/html": [
       "<div>\n",
       "<style scoped>\n",
       "    .dataframe tbody tr th:only-of-type {\n",
       "        vertical-align: middle;\n",
       "    }\n",
       "\n",
       "    .dataframe tbody tr th {\n",
       "        vertical-align: top;\n",
       "    }\n",
       "\n",
       "    .dataframe thead th {\n",
       "        text-align: right;\n",
       "    }\n",
       "</style>\n",
       "<table border=\"1\" class=\"dataframe\">\n",
       "  <thead>\n",
       "    <tr style=\"text-align: right;\">\n",
       "      <th></th>\n",
       "      <th>text</th>\n",
       "      <th>char_count</th>\n",
       "      <th>comma_count</th>\n",
       "      <th>comma_per_word</th>\n",
       "      <th>word_count</th>\n",
       "      <th>author</th>\n",
       "    </tr>\n",
       "  </thead>\n",
       "  <tbody>\n",
       "    <tr>\n",
       "      <td>0</td>\n",
       "      <td>Title A Scena do Odio Author José de Almada Ne...</td>\n",
       "      <td>10807</td>\n",
       "      <td>118</td>\n",
       "      <td>0.066404</td>\n",
       "      <td>1777</td>\n",
       "      <td>0</td>\n",
       "    </tr>\n",
       "    <tr>\n",
       "      <td>1</td>\n",
       "      <td>Title O Jardim da Pierrette Author José de Alm...</td>\n",
       "      <td>1910</td>\n",
       "      <td>7</td>\n",
       "      <td>0.022013</td>\n",
       "      <td>318</td>\n",
       "      <td>0</td>\n",
       "    </tr>\n",
       "    <tr>\n",
       "      <td>2</td>\n",
       "      <td>Title A Invenção do Dia Claro Author José de A...</td>\n",
       "      <td>33745</td>\n",
       "      <td>264</td>\n",
       "      <td>0.043723</td>\n",
       "      <td>6038</td>\n",
       "      <td>0</td>\n",
       "    </tr>\n",
       "    <tr>\n",
       "      <td>3</td>\n",
       "      <td>Title Litoral A Amadeo de Souza Cardozo Author...</td>\n",
       "      <td>4166</td>\n",
       "      <td>1</td>\n",
       "      <td>0.001527</td>\n",
       "      <td>655</td>\n",
       "      <td>0</td>\n",
       "    </tr>\n",
       "    <tr>\n",
       "      <td>4</td>\n",
       "      <td>EXPOSIÇÃO amadeo de souza cardoso LIGA NAVAL D...</td>\n",
       "      <td>3418</td>\n",
       "      <td>29</td>\n",
       "      <td>0.050086</td>\n",
       "      <td>579</td>\n",
       "      <td>0</td>\n",
       "    </tr>\n",
       "  </tbody>\n",
       "</table>\n",
       "</div>"
      ],
      "text/plain": [
       "                                                text  char_count  comma_count  \\\n",
       "0  Title A Scena do Odio Author José de Almada Ne...       10807          118   \n",
       "1  Title O Jardim da Pierrette Author José de Alm...        1910            7   \n",
       "2  Title A Invenção do Dia Claro Author José de A...       33745          264   \n",
       "3  Title Litoral A Amadeo de Souza Cardozo Author...        4166            1   \n",
       "4  EXPOSIÇÃO amadeo de souza cardoso LIGA NAVAL D...        3418           29   \n",
       "\n",
       "   comma_per_word  word_count  author  \n",
       "0        0.066404        1777       0  \n",
       "1        0.022013         318       0  \n",
       "2        0.043723        6038       0  \n",
       "3        0.001527         655       0  \n",
       "4        0.050086         579       0  "
      ]
     },
     "execution_count": 12,
     "metadata": {},
     "output_type": "execute_result"
    }
   ],
   "source": [
    "# reorder columns\n",
    "Xcols = list(set(train.columns) - set([\"author\"]) - set([\"text\"]))\n",
    "Xcols.sort()\n",
    "\n",
    "cols = [\"text\"]\n",
    "cols.extend(Xcols)\n",
    "cols.append(\"author\")\n",
    "\n",
    "train = train[cols]\n",
    "train.head()"
   ]
  },
  {
   "cell_type": "code",
   "execution_count": 13,
   "metadata": {},
   "outputs": [],
   "source": [
    "if len(forced) > 0:\n",
    "    Xcols = forced"
   ]
  },
  {
   "cell_type": "code",
   "execution_count": 14,
   "metadata": {},
   "outputs": [],
   "source": [
    "X = train[Xcols]\n",
    "y = train[\"author\"]"
   ]
  },
  {
   "cell_type": "markdown",
   "metadata": {},
   "source": [
    "___\n",
    "### 3) Test"
   ]
  },
  {
   "cell_type": "code",
   "execution_count": 16,
   "metadata": {},
   "outputs": [
    {
     "data": {
      "text/html": [
       "<div>\n",
       "<style scoped>\n",
       "    .dataframe tbody tr th:only-of-type {\n",
       "        vertical-align: middle;\n",
       "    }\n",
       "\n",
       "    .dataframe tbody tr th {\n",
       "        vertical-align: top;\n",
       "    }\n",
       "\n",
       "    .dataframe thead th {\n",
       "        text-align: right;\n",
       "    }\n",
       "</style>\n",
       "<table border=\"1\" class=\"dataframe\">\n",
       "  <thead>\n",
       "    <tr style=\"text-align: right;\">\n",
       "      <th></th>\n",
       "      <th>text</th>\n",
       "      <th>word_count</th>\n",
       "    </tr>\n",
       "  </thead>\n",
       "  <tbody>\n",
       "    <tr>\n",
       "      <td>0</td>\n",
       "      <td>Depois, pouco a pouco, a tranquilidade regress...</td>\n",
       "      <td>1000</td>\n",
       "    </tr>\n",
       "    <tr>\n",
       "      <td>1</td>\n",
       "      <td>Justamente como se eu tivesse tido a ideia de ...</td>\n",
       "      <td>1000</td>\n",
       "    </tr>\n",
       "    <tr>\n",
       "      <td>2</td>\n",
       "      <td>Quase um mês depois, a época de exames aproxim...</td>\n",
       "      <td>1000</td>\n",
       "    </tr>\n",
       "    <tr>\n",
       "      <td>3</td>\n",
       "      <td>Agora, porém, era sem fervor, arrastadamente, ...</td>\n",
       "      <td>1000</td>\n",
       "    </tr>\n",
       "    <tr>\n",
       "      <td>4</td>\n",
       "      <td>O cahos de cima a descer, a descer com a morta...</td>\n",
       "      <td>1000</td>\n",
       "    </tr>\n",
       "    <tr>\n",
       "      <td>5</td>\n",
       "      <td>\"O Senhor ensina pela pena o que o homem não s...</td>\n",
       "      <td>1000</td>\n",
       "    </tr>\n",
       "    <tr>\n",
       "      <td>6</td>\n",
       "      <td>Depois, pouco a pouco, a tranquilidade regress...</td>\n",
       "      <td>500</td>\n",
       "    </tr>\n",
       "    <tr>\n",
       "      <td>7</td>\n",
       "      <td>Justamente como se eu tivesse tido a ideia de ...</td>\n",
       "      <td>500</td>\n",
       "    </tr>\n",
       "    <tr>\n",
       "      <td>8</td>\n",
       "      <td>Quase um mês depois, a época de exames aproxim...</td>\n",
       "      <td>500</td>\n",
       "    </tr>\n",
       "    <tr>\n",
       "      <td>9</td>\n",
       "      <td>Agora, porém, era sem fervor, arrastadamente, ...</td>\n",
       "      <td>500</td>\n",
       "    </tr>\n",
       "    <tr>\n",
       "      <td>10</td>\n",
       "      <td>O cahos de cima a descer, a descer com a morta...</td>\n",
       "      <td>500</td>\n",
       "    </tr>\n",
       "    <tr>\n",
       "      <td>11</td>\n",
       "      <td>\"O Senhor ensina pela pena o que o homem não s...</td>\n",
       "      <td>500</td>\n",
       "    </tr>\n",
       "  </tbody>\n",
       "</table>\n",
       "</div>"
      ],
      "text/plain": [
       "                                                 text  word_count\n",
       "0   Depois, pouco a pouco, a tranquilidade regress...        1000\n",
       "1   Justamente como se eu tivesse tido a ideia de ...        1000\n",
       "2   Quase um mês depois, a época de exames aproxim...        1000\n",
       "3   Agora, porém, era sem fervor, arrastadamente, ...        1000\n",
       "4   O cahos de cima a descer, a descer com a morta...        1000\n",
       "5   \"O Senhor ensina pela pena o que o homem não s...        1000\n",
       "6   Depois, pouco a pouco, a tranquilidade regress...         500\n",
       "7   Justamente como se eu tivesse tido a ideia de ...         500\n",
       "8   Quase um mês depois, a época de exames aproxim...         500\n",
       "9   Agora, porém, era sem fervor, arrastadamente, ...         500\n",
       "10  O cahos de cima a descer, a descer com a morta...         500\n",
       "11  \"O Senhor ensina pela pena o que o homem não s...         500"
      ]
     },
     "execution_count": 16,
     "metadata": {},
     "output_type": "execute_result"
    }
   ],
   "source": [
    "test = get_dataframe(\"corpora/test/\", author_list=[\"1000Palavras\", \"500Palavras\"],\n",
    "                     preserve_blank_lines=False, join_every_line=True,\n",
    "                     separator=\" \")\n",
    "\n",
    "test[\"author\"] = test[\"author\"].str.replace(\"1000Palavras\", \"1000\").str.replace(\"500Palavras\", \"500\").astype(int)\n",
    "test.columns = [list(test.columns)[0], \"word_count\"]\n",
    "test"
   ]
  },
  {
   "cell_type": "code",
   "execution_count": 20,
   "metadata": {},
   "outputs": [
    {
     "data": {
      "text/html": [
       "<div>\n",
       "<style scoped>\n",
       "    .dataframe tbody tr th:only-of-type {\n",
       "        vertical-align: middle;\n",
       "    }\n",
       "\n",
       "    .dataframe tbody tr th {\n",
       "        vertical-align: top;\n",
       "    }\n",
       "\n",
       "    .dataframe thead th {\n",
       "        text-align: right;\n",
       "    }\n",
       "</style>\n",
       "<table border=\"1\" class=\"dataframe\">\n",
       "  <thead>\n",
       "    <tr style=\"text-align: right;\">\n",
       "      <th></th>\n",
       "      <th>comma_per_word</th>\n",
       "    </tr>\n",
       "  </thead>\n",
       "  <tbody>\n",
       "    <tr>\n",
       "      <td>0</td>\n",
       "      <td>0.169028</td>\n",
       "    </tr>\n",
       "    <tr>\n",
       "      <td>1</td>\n",
       "      <td>0.028815</td>\n",
       "    </tr>\n",
       "    <tr>\n",
       "      <td>2</td>\n",
       "      <td>0.047710</td>\n",
       "    </tr>\n",
       "    <tr>\n",
       "      <td>3</td>\n",
       "      <td>0.144008</td>\n",
       "    </tr>\n",
       "    <tr>\n",
       "      <td>4</td>\n",
       "      <td>0.114201</td>\n",
       "    </tr>\n",
       "  </tbody>\n",
       "</table>\n",
       "</div>"
      ],
      "text/plain": [
       "   comma_per_word\n",
       "0        0.169028\n",
       "1        0.028815\n",
       "2        0.047710\n",
       "3        0.144008\n",
       "4        0.114201"
      ]
     },
     "execution_count": 20,
     "metadata": {},
     "output_type": "execute_result"
    }
   ],
   "source": [
    "# add new features\n",
    "test['comma_count'] = test[\"text\"].str.count(\",\")\n",
    "test[\"word_count\"] = test['text'].str.split().str.len()\n",
    "test['char_count'] = test[\"text\"].str.len()\n",
    "test[\"comma_per_word\"] = test['comma_count'] / test[\"word_count\"]\n",
    "\n",
    "test[Xcols].head()"
   ]
  },
  {
   "cell_type": "markdown",
   "metadata": {},
   "source": [
    "___"
   ]
  },
  {
   "cell_type": "markdown",
   "metadata": {},
   "source": [
    "### 4) Model predictions"
   ]
  },
  {
   "cell_type": "code",
   "execution_count": 21,
   "metadata": {
    "scrolled": true
   },
   "outputs": [
    {
     "data": {
      "text/plain": [
       "GaussianNB(priors=None, var_smoothing=1e-09)"
      ]
     },
     "execution_count": 21,
     "metadata": {},
     "output_type": "execute_result"
    }
   ],
   "source": [
    "import numpy as np\n",
    "from sklearn.naive_bayes import GaussianNB\n",
    "\n",
    "clf = GaussianNB()\n",
    "clf.fit(X, y)"
   ]
  },
  {
   "cell_type": "code",
   "execution_count": 22,
   "metadata": {},
   "outputs": [],
   "source": [
    "test[\"author_pred\"] = clf.predict(test[Xcols])\n",
    "test[\"author_pred\"] = le.inverse_transform(test[\"author_pred\"])"
   ]
  },
  {
   "cell_type": "code",
   "execution_count": 26,
   "metadata": {},
   "outputs": [
    {
     "data": {
      "text/html": [
       "<div>\n",
       "<style scoped>\n",
       "    .dataframe tbody tr th:only-of-type {\n",
       "        vertical-align: middle;\n",
       "    }\n",
       "\n",
       "    .dataframe tbody tr th {\n",
       "        vertical-align: top;\n",
       "    }\n",
       "\n",
       "    .dataframe thead th {\n",
       "        text-align: right;\n",
       "    }\n",
       "</style>\n",
       "<table border=\"1\" class=\"dataframe\">\n",
       "  <thead>\n",
       "    <tr style=\"text-align: right;\">\n",
       "      <th></th>\n",
       "      <th>text</th>\n",
       "      <th>word_count</th>\n",
       "      <th>comma_count</th>\n",
       "      <th>char_count</th>\n",
       "      <th>comma_per_word</th>\n",
       "      <th>author_pred</th>\n",
       "    </tr>\n",
       "  </thead>\n",
       "  <tbody>\n",
       "    <tr>\n",
       "      <td>0</td>\n",
       "      <td>Depois, pouco a pouco, a tranquilidade regress...</td>\n",
       "      <td>988</td>\n",
       "      <td>167</td>\n",
       "      <td>5763</td>\n",
       "      <td>0.169028</td>\n",
       "      <td>JoseSaramago</td>\n",
       "    </tr>\n",
       "    <tr>\n",
       "      <td>1</td>\n",
       "      <td>Justamente como se eu tivesse tido a ideia de ...</td>\n",
       "      <td>937</td>\n",
       "      <td>27</td>\n",
       "      <td>5453</td>\n",
       "      <td>0.028815</td>\n",
       "      <td>AlmadaNegreiros</td>\n",
       "    </tr>\n",
       "    <tr>\n",
       "      <td>2</td>\n",
       "      <td>Quase um mês depois, a época de exames aproxim...</td>\n",
       "      <td>1048</td>\n",
       "      <td>50</td>\n",
       "      <td>6008</td>\n",
       "      <td>0.047710</td>\n",
       "      <td>AlmadaNegreiros</td>\n",
       "    </tr>\n",
       "    <tr>\n",
       "      <td>3</td>\n",
       "      <td>Agora, porém, era sem fervor, arrastadamente, ...</td>\n",
       "      <td>993</td>\n",
       "      <td>143</td>\n",
       "      <td>6263</td>\n",
       "      <td>0.144008</td>\n",
       "      <td>JoseSaramago</td>\n",
       "    </tr>\n",
       "    <tr>\n",
       "      <td>4</td>\n",
       "      <td>O cahos de cima a descer, a descer com a morta...</td>\n",
       "      <td>1007</td>\n",
       "      <td>115</td>\n",
       "      <td>6470</td>\n",
       "      <td>0.114201</td>\n",
       "      <td>EcaDeQueiros</td>\n",
       "    </tr>\n",
       "  </tbody>\n",
       "</table>\n",
       "</div>"
      ],
      "text/plain": [
       "                                                text  word_count  comma_count  \\\n",
       "0  Depois, pouco a pouco, a tranquilidade regress...         988          167   \n",
       "1  Justamente como se eu tivesse tido a ideia de ...         937           27   \n",
       "2  Quase um mês depois, a época de exames aproxim...        1048           50   \n",
       "3  Agora, porém, era sem fervor, arrastadamente, ...         993          143   \n",
       "4  O cahos de cima a descer, a descer com a morta...        1007          115   \n",
       "\n",
       "   char_count  comma_per_word      author_pred  \n",
       "0        5763        0.169028     JoseSaramago  \n",
       "1        5453        0.028815  AlmadaNegreiros  \n",
       "2        6008        0.047710  AlmadaNegreiros  \n",
       "3        6263        0.144008     JoseSaramago  \n",
       "4        6470        0.114201     EcaDeQueiros  "
      ]
     },
     "execution_count": 26,
     "metadata": {},
     "output_type": "execute_result"
    }
   ],
   "source": [
    "test.head()"
   ]
  },
  {
   "cell_type": "markdown",
   "metadata": {},
   "source": [
    "___\n",
    "### 5) Evaluate"
   ]
  },
  {
   "cell_type": "code",
   "execution_count": 24,
   "metadata": {},
   "outputs": [],
   "source": [
    "# labels feitas à mão\n",
    "# faltam 3 excertos\n",
    "labels = [\"JoseSaramago\", \"AlmadaNegreiros\", \"???\", \"EcaDeQueiros\", \"CamiloCasteloBranco\",\n",
    "          \"JoseRodriguesSantos\", \"JoseSaramago\", \"???\", \"???\", \"EcaDeQueiros\", \"CamiloCasteloBranco\",\n",
    "          \"JoseRodriguesSantos\"]"
   ]
  },
  {
   "cell_type": "code",
   "execution_count": 25,
   "metadata": {},
   "outputs": [
    {
     "name": "stdout",
     "output_type": "stream",
     "text": [
      "#0:\tcerto\n",
      "#1:\tcerto\n",
      "#2:\terrado\n",
      "#3:\terrado\n",
      "#4:\terrado\n",
      "#5:\tcerto\n",
      "#6:\tcerto\n",
      "#7:\terrado\n",
      "#8:\terrado\n",
      "#9:\terrado\n",
      "#10:\terrado\n",
      "#11:\terrado\n",
      "\n",
      "accuracy = 33.33 %\n"
     ]
    }
   ],
   "source": [
    "score = 0\n",
    "\n",
    "for index, i in enumerate(test[\"author_pred\"]):\n",
    "    if i == labels[index]:\n",
    "        print(f\"#{index}:\\tcerto\")\n",
    "        score += 1\n",
    "    else:\n",
    "        print(f\"#{index}:\\terrado\")\n",
    "\n",
    "accuracy = round(score/len(test)*100, 2)\n",
    "print(f\"\\naccuracy = {accuracy} %\")"
   ]
  },
  {
   "cell_type": "raw",
   "metadata": {},
   "source": [
    "# comma_count only\n",
    "    certos: 2\n",
    "    accuracy = 8.33 %\n",
    "\n",
    "# comma_per_word only\n",
    "    certos: 0, 1, 5, 6\n",
    "    accuracy = 33.33 %"
   ]
  },
  {
   "cell_type": "markdown",
   "metadata": {},
   "source": [
    "___\n",
    "### **[TODO] features:**\n",
    "- <s>número de caracteres por linha</s>\n",
    "- <s>número de palavras por linha</s>\n",
    "- <s>número de vírgulas por frase</s>\n",
    "- número de caracteres especiais (pontuação) por linha\n",
    "- número de reticências por linha\n"
   ]
  }
 ],
 "metadata": {
  "kernelspec": {
   "display_name": "Python 3",
   "language": "python",
   "name": "python3"
  },
  "language_info": {
   "codemirror_mode": {
    "name": "ipython",
    "version": 3
   },
   "file_extension": ".py",
   "mimetype": "text/x-python",
   "name": "python",
   "nbconvert_exporter": "python",
   "pygments_lexer": "ipython3",
   "version": "3.7.4"
  }
 },
 "nbformat": 4,
 "nbformat_minor": 2
}
