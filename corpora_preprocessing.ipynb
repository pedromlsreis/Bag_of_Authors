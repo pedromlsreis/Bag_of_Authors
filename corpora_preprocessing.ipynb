{
 "cells": [
  {
   "cell_type": "code",
   "execution_count": 1,
   "metadata": {},
   "outputs": [],
   "source": [
    "import os, sys\n",
    "import string\n",
    "import pandas as pd\n",
    "try:\n",
    "    import nltk\n",
    "except:\n",
    "    !conda install --yes --prefix {sys.prefix} nltk\n",
    "    import nltk"
   ]
  },
  {
   "cell_type": "code",
   "execution_count": 2,
   "metadata": {},
   "outputs": [
    {
     "data": {
      "text/plain": [
       "['.git',\n",
       " '.gitignore',\n",
       " '.ipynb_checkpoints',\n",
       " 'BOA_project_description.pdf',\n",
       " 'corpora',\n",
       " 'corpora_preprocessing.ipynb',\n",
       " 'LICENSE',\n",
       " 'README.md']"
      ]
     },
     "execution_count": 2,
     "metadata": {},
     "output_type": "execute_result"
    }
   ],
   "source": [
    "# ver conteúdos da pasta\n",
    "os.listdir()"
   ]
  },
  {
   "cell_type": "code",
   "execution_count": 3,
   "metadata": {},
   "outputs": [
    {
     "data": {
      "text/plain": [
       "['AlmadaNegreiros',\n",
       " 'CamiloCasteloBranco',\n",
       " 'EcaDeQueiros',\n",
       " 'JoseRodriguesSantos',\n",
       " 'JoseSaramago',\n",
       " 'LuisaMarquesSilva']"
      ]
     },
     "execution_count": 3,
     "metadata": {},
     "output_type": "execute_result"
    }
   ],
   "source": [
    "authors = os.listdir(\"corpora/train\")\n",
    "authors"
   ]
  },
  {
   "cell_type": "code",
   "execution_count": 4,
   "metadata": {
    "scrolled": true
   },
   "outputs": [
    {
     "data": {
      "text/plain": [
       "['corpora/train/AlmadaNegreiros/pg22615.txt',\n",
       " 'corpora/train/AlmadaNegreiros/pg22730.txt',\n",
       " 'corpora/train/AlmadaNegreiros/pg22801.txt',\n",
       " 'corpora/train/AlmadaNegreiros/pg22802.txt',\n",
       " 'corpora/train/AlmadaNegreiros/pg22969.txt',\n",
       " 'corpora/train/AlmadaNegreiros/pg23133.txt',\n",
       " 'corpora/train/AlmadaNegreiros/pg23620.txt',\n",
       " 'corpora/train/AlmadaNegreiros/pg23879.txt',\n",
       " 'corpora/train/AlmadaNegreiros/pg23961.txt',\n",
       " 'corpora/train/CamiloCasteloBranco/24691-0.txt',\n",
       " 'corpora/train/CamiloCasteloBranco/34756-0.txt',\n",
       " 'corpora/train/CamiloCasteloBranco/pg16425.txt',\n",
       " 'corpora/train/CamiloCasteloBranco/pg17927.txt',\n",
       " 'corpora/train/CamiloCasteloBranco/pg19375.txt',\n",
       " 'corpora/train/CamiloCasteloBranco/pg21406.txt',\n",
       " 'corpora/train/CamiloCasteloBranco/pg23203.txt',\n",
       " 'corpora/train/CamiloCasteloBranco/pg23345.txt',\n",
       " 'corpora/train/CamiloCasteloBranco/pg23346.txt',\n",
       " 'corpora/train/CamiloCasteloBranco/pg24339.txt',\n",
       " 'corpora/train/CamiloCasteloBranco/pg25844.txt',\n",
       " 'corpora/train/CamiloCasteloBranco/pg26017.txt',\n",
       " 'corpora/train/CamiloCasteloBranco/pg26103.txt',\n",
       " 'corpora/train/CamiloCasteloBranco/pg26110.txt',\n",
       " 'corpora/train/CamiloCasteloBranco/pg26988.txt',\n",
       " 'corpora/train/CamiloCasteloBranco/pg27364.txt',\n",
       " 'corpora/train/CamiloCasteloBranco/pg27541.txt',\n",
       " 'corpora/train/CamiloCasteloBranco/pg28310.txt',\n",
       " 'corpora/train/CamiloCasteloBranco/pg31694.txt',\n",
       " 'corpora/train/CamiloCasteloBranco/pg33788.txt',\n",
       " 'corpora/train/EcaDeQueiros/pg18220.txt',\n",
       " 'corpora/train/EcaDeQueiros/pg25641.txt',\n",
       " 'corpora/train/EcaDeQueiros/pg27637.txt',\n",
       " 'corpora/train/EcaDeQueiros/pg31347.txt',\n",
       " 'corpora/train/EcaDeQueiros/pg40409.txt',\n",
       " 'corpora/train/JoseRodriguesSantos/A Filha Do Capitao - Jose Rodrigues dos Santos.txt',\n",
       " 'corpora/train/JoseRodriguesSantos/A Formula De Deus - Jose Rodrigues dos Santos.txt',\n",
       " 'corpora/train/JoseRodriguesSantos/A Mao do Diabo - Jose Rodrigues dos Santos.txt',\n",
       " 'corpora/train/JoseRodriguesSantos/A Vida Num Sopro - Jose Rodrigues dos Santos.txt',\n",
       " 'corpora/train/JoseRodriguesSantos/Furia Divina - Jose Rodrigues dos Santos.txt',\n",
       " 'corpora/train/JoseRodriguesSantos/O Anjo Branco - Jose Rodrigues dos Santos.txt',\n",
       " 'corpora/train/JoseRodriguesSantos/O Setimo Selo - Jose Rodrigues dos Santos.txt',\n",
       " 'corpora/train/JoseRodriguesSantos/O ultimo Segredo - Jose Rodrigues dos Santos.txt',\n",
       " 'corpora/train/JoseSaramago/A Caverna - Jose Saramago.txt',\n",
       " 'corpora/train/JoseSaramago/As Intermitencias da Morte - Jose Saramago.txt',\n",
       " 'corpora/train/JoseSaramago/Caim - Jose Saramago.txt',\n",
       " 'corpora/train/JoseSaramago/Claraboia - Jose Saramago.txt',\n",
       " 'corpora/train/JoseSaramago/Ensaio Sobre a Cegueira - Jose Saramago.txt',\n",
       " 'corpora/train/JoseSaramago/Historia Do Cerco De Lisboa - Jose Saramago.txt',\n",
       " 'corpora/train/JoseSaramago/Memorial Do Convento - Jose Saramago.txt',\n",
       " 'corpora/train/JoseSaramago/O Ano Da Morte De Ricardo Reis - Jose Saramago.txt',\n",
       " 'corpora/train/JoseSaramago/O Conto Da Ilha Desconhecida - Jose Saramago.txt',\n",
       " 'corpora/train/JoseSaramago/O Homem Duplicado - Jose Saramago.txt',\n",
       " 'corpora/train/JoseSaramago/Terra Do Pecado - Jose Saramago.txt',\n",
       " 'corpora/train/JoseSaramago/Viagem Do Elefante - Jose Saramago.txt',\n",
       " 'corpora/train/LuisaMarquesSilva/ABelaHistoria.txt',\n",
       " 'corpora/train/LuisaMarquesSilva/acabouSe.txt',\n",
       " 'corpora/train/LuisaMarquesSilva/Botão.txt',\n",
       " 'corpora/train/LuisaMarquesSilva/controlz.txt',\n",
       " 'corpora/train/LuisaMarquesSilva/emedo.txt',\n",
       " 'corpora/train/LuisaMarquesSilva/Lisboa2050.txt',\n",
       " 'corpora/train/LuisaMarquesSilva/passeioInferno.txt',\n",
       " 'corpora/train/LuisaMarquesSilva/rapsodiasemdo.txt',\n",
       " 'corpora/train/LuisaMarquesSilva/UltimaHistoria.txt']"
      ]
     },
     "execution_count": 4,
     "metadata": {},
     "output_type": "execute_result"
    }
   ],
   "source": [
    "allfiles = []\n",
    "\n",
    "for author in authors:\n",
    "    for excerto in os.listdir(f\"corpora/train/{author}\"):\n",
    "        allfiles.append(f\"corpora/train/{author}/{excerto}\")\n",
    "\n",
    "allfiles"
   ]
  },
  {
   "cell_type": "code",
   "execution_count": 5,
   "metadata": {
    "scrolled": false
   },
   "outputs": [],
   "source": [
    "# Pensar numa forma de compilar dataset de treino apenas num sítio (ex: pandas.DataFrame?)\n",
    "\n",
    "preserve_blank_lines = True # mudar para False para excluir linhas em branco\n",
    "list_of_texts = []\n",
    "list_of_authors = []\n",
    "\n",
    "for author in authors:\n",
    "    for excerto in os.listdir(f\"corpora/train/{author}\"):\n",
    "        text_list = []\n",
    "        with open(f\"corpora/train/{author}/{excerto}\", encoding=\"utf-8\") as f:\n",
    "            for line in f:\n",
    "                inner_list = [line.strip() for line in line.split(\"split character\")]\n",
    "                if preserve_blank_lines:\n",
    "                    text_list.append(inner_list[0])\n",
    "                else:\n",
    "                    if len(inner_list[0]) > 0:\n",
    "                        text_list.append(inner_list[0])\n",
    "        list_of_texts.append(text_list)\n",
    "        list_of_authors.append(author)\n",
    "        "
   ]
  },
  {
   "cell_type": "code",
   "execution_count": 6,
   "metadata": {},
   "outputs": [
    {
     "data": {
      "text/html": [
       "<div>\n",
       "<style scoped>\n",
       "    .dataframe tbody tr th:only-of-type {\n",
       "        vertical-align: middle;\n",
       "    }\n",
       "\n",
       "    .dataframe tbody tr th {\n",
       "        vertical-align: top;\n",
       "    }\n",
       "\n",
       "    .dataframe thead th {\n",
       "        text-align: right;\n",
       "    }\n",
       "</style>\n",
       "<table border=\"1\" class=\"dataframe\">\n",
       "  <thead>\n",
       "    <tr style=\"text-align: right;\">\n",
       "      <th></th>\n",
       "      <th>text</th>\n",
       "      <th>author</th>\n",
       "    </tr>\n",
       "  </thead>\n",
       "  <tbody>\n",
       "    <tr>\n",
       "      <td>0</td>\n",
       "      <td>[Title: A Scena do Odio, , Author: José de Alm...</td>\n",
       "      <td>AlmadaNegreiros</td>\n",
       "    </tr>\n",
       "    <tr>\n",
       "      <td>1</td>\n",
       "      <td>[Title: O Jardim da Pierrette, , Author: José ...</td>\n",
       "      <td>AlmadaNegreiros</td>\n",
       "    </tr>\n",
       "    <tr>\n",
       "      <td>2</td>\n",
       "      <td>[, , Title: A Invenção do Dia Claro, , Author:...</td>\n",
       "      <td>AlmadaNegreiros</td>\n",
       "    </tr>\n",
       "    <tr>\n",
       "      <td>3</td>\n",
       "      <td>[, Title: Litoral, A Amadeo de Souza Cardozo, ...</td>\n",
       "      <td>AlmadaNegreiros</td>\n",
       "    </tr>\n",
       "    <tr>\n",
       "      <td>4</td>\n",
       "      <td>[, , , EXPOSIÇÃO, , +amadeo, de souza, cardoso...</td>\n",
       "      <td>AlmadaNegreiros</td>\n",
       "    </tr>\n",
       "    <tr>\n",
       "      <td>...</td>\n",
       "      <td>...</td>\n",
       "      <td>...</td>\n",
       "    </tr>\n",
       "    <tr>\n",
       "      <td>58</td>\n",
       "      <td>[Título, e-medo, , Autora (inspiradíssima), Lu...</td>\n",
       "      <td>LuisaMarquesSilva</td>\n",
       "    </tr>\n",
       "    <tr>\n",
       "      <td>59</td>\n",
       "      <td>[LISBOA 2050, Lisboa, ano de 2050. Um Agosto t...</td>\n",
       "      <td>LuisaMarquesSilva</td>\n",
       "    </tr>\n",
       "    <tr>\n",
       "      <td>60</td>\n",
       "      <td>[Título, Um passeio pelo inferno, , Autora, Lu...</td>\n",
       "      <td>LuisaMarquesSilva</td>\n",
       "    </tr>\n",
       "    <tr>\n",
       "      <td>61</td>\n",
       "      <td>[Título, Rapsódia sem dó (maior), , Autora, Lu...</td>\n",
       "      <td>LuisaMarquesSilva</td>\n",
       "    </tr>\n",
       "    <tr>\n",
       "      <td>62</td>\n",
       "      <td>[Título, A última história, , Autora (próximo ...</td>\n",
       "      <td>LuisaMarquesSilva</td>\n",
       "    </tr>\n",
       "  </tbody>\n",
       "</table>\n",
       "<p>63 rows × 2 columns</p>\n",
       "</div>"
      ],
      "text/plain": [
       "                                                 text             author\n",
       "0   [Title: A Scena do Odio, , Author: José de Alm...    AlmadaNegreiros\n",
       "1   [Title: O Jardim da Pierrette, , Author: José ...    AlmadaNegreiros\n",
       "2   [, , Title: A Invenção do Dia Claro, , Author:...    AlmadaNegreiros\n",
       "3   [, Title: Litoral, A Amadeo de Souza Cardozo, ...    AlmadaNegreiros\n",
       "4   [, , , EXPOSIÇÃO, , +amadeo, de souza, cardoso...    AlmadaNegreiros\n",
       "..                                                ...                ...\n",
       "58  [Título, e-medo, , Autora (inspiradíssima), Lu...  LuisaMarquesSilva\n",
       "59  [LISBOA 2050, Lisboa, ano de 2050. Um Agosto t...  LuisaMarquesSilva\n",
       "60  [Título, Um passeio pelo inferno, , Autora, Lu...  LuisaMarquesSilva\n",
       "61  [Título, Rapsódia sem dó (maior), , Autora, Lu...  LuisaMarquesSilva\n",
       "62  [Título, A última história, , Autora (próximo ...  LuisaMarquesSilva\n",
       "\n",
       "[63 rows x 2 columns]"
      ]
     },
     "execution_count": 6,
     "metadata": {},
     "output_type": "execute_result"
    }
   ],
   "source": [
    "train = pd.DataFrame({\"text\":list_of_texts, \"author\":list_of_authors})\n",
    "\n",
    "train"
   ]
  },
  {
   "cell_type": "code",
   "execution_count": 7,
   "metadata": {
    "scrolled": false
   },
   "outputs": [
    {
     "data": {
      "text/plain": [
       "['AlmadaNegreiros',\n",
       " 'CamiloCasteloBranco',\n",
       " 'EcaDeQueiros',\n",
       " 'JoseRodriguesSantos',\n",
       " 'JoseSaramago',\n",
       " 'LuisaMarquesSilva']"
      ]
     },
     "execution_count": 7,
     "metadata": {},
     "output_type": "execute_result"
    }
   ],
   "source": [
    "train[\"author\"].unique().tolist()"
   ]
  },
  {
   "cell_type": "code",
   "execution_count": 8,
   "metadata": {},
   "outputs": [],
   "source": [
    "def remove_punctuation(text):\n",
    "    \"\"\"\n",
    "        Greedy removal of all the punctuation from a list of text lines.\n",
    "        However, it also removes the email and website punctuation, making\n",
    "        them hard to recognise.\n",
    "        Returns a list of text lines without punctuation.\n",
    "    \"\"\"\n",
    "    no_punct_text = []\n",
    "    for line in text:\n",
    "        no_punct = \"\".join([char for char in line if char not in string.punctuation])\n",
    "        no_punct_text.append(no_punct)\n",
    "    return no_punct_text"
   ]
  },
  {
   "cell_type": "code",
   "execution_count": 9,
   "metadata": {},
   "outputs": [],
   "source": [
    "# cada vez que uma nova função for criada, introduzi-la em \"clean_text()\"\n",
    "\n",
    "def clean_text(df, text_col=str):\n",
    "    \"\"\"\n",
    "        Compiles all the preprocessing functions inside a single function.\n",
    "    \"\"\"\n",
    "    df[text_col] = df[text_col].apply(remove_punctuation)\n",
    "    return df"
   ]
  },
  {
   "cell_type": "code",
   "execution_count": 10,
   "metadata": {},
   "outputs": [],
   "source": [
    "# codificação da coluna y para fornecer ao futuro modelo\n",
    "\n",
    "def target_encoding(df, target_col=str):\n",
    "    \"\"\"\n",
    "        Encode the target column, i.e.:\n",
    "            - AlmadaNegreiros     -> 0;\n",
    "            - CamiloCasteloBranco -> 1;\n",
    "            ...\n",
    "    \"\"\"\n",
    "    pass"
   ]
  },
  {
   "cell_type": "code",
   "execution_count": 11,
   "metadata": {},
   "outputs": [
    {
     "data": {
      "text/html": [
       "<div>\n",
       "<style scoped>\n",
       "    .dataframe tbody tr th:only-of-type {\n",
       "        vertical-align: middle;\n",
       "    }\n",
       "\n",
       "    .dataframe tbody tr th {\n",
       "        vertical-align: top;\n",
       "    }\n",
       "\n",
       "    .dataframe thead th {\n",
       "        text-align: right;\n",
       "    }\n",
       "</style>\n",
       "<table border=\"1\" class=\"dataframe\">\n",
       "  <thead>\n",
       "    <tr style=\"text-align: right;\">\n",
       "      <th></th>\n",
       "      <th>text</th>\n",
       "      <th>author</th>\n",
       "    </tr>\n",
       "  </thead>\n",
       "  <tbody>\n",
       "    <tr>\n",
       "      <td>0</td>\n",
       "      <td>[Title A Scena do Odio, , Author José de Almad...</td>\n",
       "      <td>AlmadaNegreiros</td>\n",
       "    </tr>\n",
       "    <tr>\n",
       "      <td>1</td>\n",
       "      <td>[Title O Jardim da Pierrette, , Author José de...</td>\n",
       "      <td>AlmadaNegreiros</td>\n",
       "    </tr>\n",
       "    <tr>\n",
       "      <td>2</td>\n",
       "      <td>[, , Title A Invenção do Dia Claro, , Author J...</td>\n",
       "      <td>AlmadaNegreiros</td>\n",
       "    </tr>\n",
       "    <tr>\n",
       "      <td>3</td>\n",
       "      <td>[, Title Litoral, A Amadeo de Souza Cardozo, ,...</td>\n",
       "      <td>AlmadaNegreiros</td>\n",
       "    </tr>\n",
       "    <tr>\n",
       "      <td>4</td>\n",
       "      <td>[, , , EXPOSIÇÃO, , amadeo, de souza, cardoso,...</td>\n",
       "      <td>AlmadaNegreiros</td>\n",
       "    </tr>\n",
       "    <tr>\n",
       "      <td>...</td>\n",
       "      <td>...</td>\n",
       "      <td>...</td>\n",
       "    </tr>\n",
       "    <tr>\n",
       "      <td>58</td>\n",
       "      <td>[Título, emedo, , Autora inspiradíssima, Luísa...</td>\n",
       "      <td>LuisaMarquesSilva</td>\n",
       "    </tr>\n",
       "    <tr>\n",
       "      <td>59</td>\n",
       "      <td>[LISBOA 2050, Lisboa ano de 2050 Um Agosto tão...</td>\n",
       "      <td>LuisaMarquesSilva</td>\n",
       "    </tr>\n",
       "    <tr>\n",
       "      <td>60</td>\n",
       "      <td>[Título, Um passeio pelo inferno, , Autora, Lu...</td>\n",
       "      <td>LuisaMarquesSilva</td>\n",
       "    </tr>\n",
       "    <tr>\n",
       "      <td>61</td>\n",
       "      <td>[Título, Rapsódia sem dó maior, , Autora, Luís...</td>\n",
       "      <td>LuisaMarquesSilva</td>\n",
       "    </tr>\n",
       "    <tr>\n",
       "      <td>62</td>\n",
       "      <td>[Título, A última história, , Autora próximo N...</td>\n",
       "      <td>LuisaMarquesSilva</td>\n",
       "    </tr>\n",
       "  </tbody>\n",
       "</table>\n",
       "<p>63 rows × 2 columns</p>\n",
       "</div>"
      ],
      "text/plain": [
       "                                                 text             author\n",
       "0   [Title A Scena do Odio, , Author José de Almad...    AlmadaNegreiros\n",
       "1   [Title O Jardim da Pierrette, , Author José de...    AlmadaNegreiros\n",
       "2   [, , Title A Invenção do Dia Claro, , Author J...    AlmadaNegreiros\n",
       "3   [, Title Litoral, A Amadeo de Souza Cardozo, ,...    AlmadaNegreiros\n",
       "4   [, , , EXPOSIÇÃO, , amadeo, de souza, cardoso,...    AlmadaNegreiros\n",
       "..                                                ...                ...\n",
       "58  [Título, emedo, , Autora inspiradíssima, Luísa...  LuisaMarquesSilva\n",
       "59  [LISBOA 2050, Lisboa ano de 2050 Um Agosto tão...  LuisaMarquesSilva\n",
       "60  [Título, Um passeio pelo inferno, , Autora, Lu...  LuisaMarquesSilva\n",
       "61  [Título, Rapsódia sem dó maior, , Autora, Luís...  LuisaMarquesSilva\n",
       "62  [Título, A última história, , Autora próximo N...  LuisaMarquesSilva\n",
       "\n",
       "[63 rows x 2 columns]"
      ]
     },
     "execution_count": 11,
     "metadata": {},
     "output_type": "execute_result"
    }
   ],
   "source": [
    "train = clean_text(train, \"text\")\n",
    "train"
   ]
  },
  {
   "cell_type": "markdown",
   "metadata": {},
   "source": [
    "[in progress] ***brainstorm* de features interessantes:**\n",
    "- número de caracteres por linha\n",
    "- número de caracteres especiais por linha\n",
    "- número de vírgulas por frase\n",
    "- número de reticências por linha\n"
   ]
  }
 ],
 "metadata": {
  "kernelspec": {
   "display_name": "Python 3",
   "language": "python",
   "name": "python3"
  },
  "language_info": {
   "codemirror_mode": {
    "name": "ipython",
    "version": 3
   },
   "file_extension": ".py",
   "mimetype": "text/x-python",
   "name": "python",
   "nbconvert_exporter": "python",
   "pygments_lexer": "ipython3",
   "version": "3.7.4"
  }
 },
 "nbformat": 4,
 "nbformat_minor": 2
}
