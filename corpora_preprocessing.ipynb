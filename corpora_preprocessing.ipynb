{
 "cells": [
  {
   "cell_type": "code",
   "execution_count": 1,
   "metadata": {},
   "outputs": [],
   "source": [
    "import os, sys\n",
    "import string\n",
    "import pandas as pd\n",
    "try:\n",
    "    import nltk\n",
    "except:\n",
    "    !conda install --yes --prefix {sys.prefix} nltk\n",
    "    import nltk\n",
    "\n",
    "from utils.preprocessing import get_dataframe"
   ]
  },
  {
   "cell_type": "code",
   "execution_count": 2,
   "metadata": {},
   "outputs": [
    {
     "data": {
      "text/plain": [
       "['.git',\n",
       " '.gitignore',\n",
       " '.ipynb_checkpoints',\n",
       " 'BOA_project_description.pdf',\n",
       " 'corpora',\n",
       " 'corpora_preprocessing.ipynb',\n",
       " 'LICENSE',\n",
       " 'README.md',\n",
       " 'utils']"
      ]
     },
     "execution_count": 2,
     "metadata": {},
     "output_type": "execute_result"
    }
   ],
   "source": [
    "# ver conteúdos da pasta\n",
    "os.listdir()"
   ]
  },
  {
   "cell_type": "code",
   "execution_count": 3,
   "metadata": {},
   "outputs": [
    {
     "data": {
      "text/plain": [
       "['AlmadaNegreiros',\n",
       " 'CamiloCasteloBranco',\n",
       " 'EcaDeQueiros',\n",
       " 'JoseRodriguesSantos',\n",
       " 'JoseSaramago',\n",
       " 'LuisaMarquesSilva']"
      ]
     },
     "execution_count": 3,
     "metadata": {},
     "output_type": "execute_result"
    }
   ],
   "source": [
    "authors = os.listdir(\"corpora/train\")\n",
    "authors"
   ]
  },
  {
   "cell_type": "code",
   "execution_count": 4,
   "metadata": {
    "scrolled": true
   },
   "outputs": [
    {
     "name": "stdout",
     "output_type": "stream",
     "text": [
      "corpora/train/AlmadaNegreiros/pg22615.txt\n",
      "corpora/train/AlmadaNegreiros/pg22730.txt\n",
      "corpora/train/AlmadaNegreiros/pg22801.txt\n",
      "corpora/train/AlmadaNegreiros/pg22802.txt\n",
      "corpora/train/AlmadaNegreiros/pg22969.txt\n",
      "corpora/train/AlmadaNegreiros/pg23133.txt\n",
      "corpora/train/AlmadaNegreiros/pg23620.txt\n",
      "corpora/train/AlmadaNegreiros/pg23879.txt\n",
      "corpora/train/AlmadaNegreiros/pg23961.txt\n",
      "corpora/train/CamiloCasteloBranco/24691-0.txt\n",
      "corpora/train/CamiloCasteloBranco/34756-0.txt\n",
      "corpora/train/CamiloCasteloBranco/pg16425.txt\n",
      "corpora/train/CamiloCasteloBranco/pg17927.txt\n",
      "corpora/train/CamiloCasteloBranco/pg19375.txt\n",
      "corpora/train/CamiloCasteloBranco/pg21406.txt\n",
      "corpora/train/CamiloCasteloBranco/pg23203.txt\n",
      "corpora/train/CamiloCasteloBranco/pg23345.txt\n",
      "corpora/train/CamiloCasteloBranco/pg23346.txt\n",
      "corpora/train/CamiloCasteloBranco/pg24339.txt\n",
      "corpora/train/CamiloCasteloBranco/pg25844.txt\n",
      "corpora/train/CamiloCasteloBranco/pg26017.txt\n",
      "corpora/train/CamiloCasteloBranco/pg26103.txt\n",
      "corpora/train/CamiloCasteloBranco/pg26110.txt\n",
      "corpora/train/CamiloCasteloBranco/pg26988.txt\n",
      "corpora/train/CamiloCasteloBranco/pg27364.txt\n",
      "corpora/train/CamiloCasteloBranco/pg27541.txt\n",
      "corpora/train/CamiloCasteloBranco/pg28310.txt\n",
      "corpora/train/CamiloCasteloBranco/pg31694.txt\n",
      "corpora/train/CamiloCasteloBranco/pg33788.txt\n",
      "corpora/train/EcaDeQueiros/pg18220.txt\n",
      "corpora/train/EcaDeQueiros/pg25641.txt\n",
      "corpora/train/EcaDeQueiros/pg27637.txt\n",
      "corpora/train/EcaDeQueiros/pg31347.txt\n",
      "corpora/train/EcaDeQueiros/pg40409.txt\n",
      "corpora/train/JoseRodriguesSantos/A Filha Do Capitao - Jose Rodrigues dos Santos.txt\n",
      "corpora/train/JoseRodriguesSantos/A Formula De Deus - Jose Rodrigues dos Santos.txt\n",
      "corpora/train/JoseRodriguesSantos/A Mao do Diabo - Jose Rodrigues dos Santos.txt\n",
      "corpora/train/JoseRodriguesSantos/A Vida Num Sopro - Jose Rodrigues dos Santos.txt\n",
      "corpora/train/JoseRodriguesSantos/Furia Divina - Jose Rodrigues dos Santos.txt\n",
      "corpora/train/JoseRodriguesSantos/O Anjo Branco - Jose Rodrigues dos Santos.txt\n",
      "corpora/train/JoseRodriguesSantos/O Setimo Selo - Jose Rodrigues dos Santos.txt\n",
      "corpora/train/JoseRodriguesSantos/O ultimo Segredo - Jose Rodrigues dos Santos.txt\n",
      "corpora/train/JoseSaramago/A Caverna - Jose Saramago.txt\n",
      "corpora/train/JoseSaramago/As Intermitencias da Morte - Jose Saramago.txt\n",
      "corpora/train/JoseSaramago/Caim - Jose Saramago.txt\n",
      "corpora/train/JoseSaramago/Claraboia - Jose Saramago.txt\n",
      "corpora/train/JoseSaramago/Ensaio Sobre a Cegueira - Jose Saramago.txt\n",
      "corpora/train/JoseSaramago/Historia Do Cerco De Lisboa - Jose Saramago.txt\n",
      "corpora/train/JoseSaramago/Memorial Do Convento - Jose Saramago.txt\n",
      "corpora/train/JoseSaramago/O Ano Da Morte De Ricardo Reis - Jose Saramago.txt\n",
      "corpora/train/JoseSaramago/O Conto Da Ilha Desconhecida - Jose Saramago.txt\n",
      "corpora/train/JoseSaramago/O Homem Duplicado - Jose Saramago.txt\n",
      "corpora/train/JoseSaramago/Terra Do Pecado - Jose Saramago.txt\n",
      "corpora/train/JoseSaramago/Viagem Do Elefante - Jose Saramago.txt\n",
      "corpora/train/LuisaMarquesSilva/ABelaHistoria.txt\n",
      "corpora/train/LuisaMarquesSilva/acabouSe.txt\n",
      "corpora/train/LuisaMarquesSilva/Botão.txt\n",
      "corpora/train/LuisaMarquesSilva/controlz.txt\n",
      "corpora/train/LuisaMarquesSilva/emedo.txt\n",
      "corpora/train/LuisaMarquesSilva/Lisboa2050.txt\n",
      "corpora/train/LuisaMarquesSilva/passeioInferno.txt\n",
      "corpora/train/LuisaMarquesSilva/rapsodiasemdo.txt\n",
      "corpora/train/LuisaMarquesSilva/UltimaHistoria.txt\n"
     ]
    }
   ],
   "source": [
    "for author in authors:\n",
    "    for excerto in [x for x in os.listdir(f\"corpora/train/{author}\") if x.endswith(\".txt\")]:\n",
    "        print(f\"corpora/train/{author}/{excerto}\")"
   ]
  },
  {
   "cell_type": "code",
   "execution_count": 5,
   "metadata": {},
   "outputs": [
    {
     "data": {
      "text/html": [
       "<div>\n",
       "<style scoped>\n",
       "    .dataframe tbody tr th:only-of-type {\n",
       "        vertical-align: middle;\n",
       "    }\n",
       "\n",
       "    .dataframe tbody tr th {\n",
       "        vertical-align: top;\n",
       "    }\n",
       "\n",
       "    .dataframe thead th {\n",
       "        text-align: right;\n",
       "    }\n",
       "</style>\n",
       "<table border=\"1\" class=\"dataframe\">\n",
       "  <thead>\n",
       "    <tr style=\"text-align: right;\">\n",
       "      <th></th>\n",
       "      <th>text</th>\n",
       "      <th>author</th>\n",
       "    </tr>\n",
       "  </thead>\n",
       "  <tbody>\n",
       "    <tr>\n",
       "      <td>0</td>\n",
       "      <td>Title: A Scena do OdioAuthor: José de Almada N...</td>\n",
       "      <td>AlmadaNegreiros</td>\n",
       "    </tr>\n",
       "    <tr>\n",
       "      <td>1</td>\n",
       "      <td>Title: O Jardim da PierretteAuthor: José de Al...</td>\n",
       "      <td>AlmadaNegreiros</td>\n",
       "    </tr>\n",
       "    <tr>\n",
       "      <td>2</td>\n",
       "      <td>Title: A Invenção do Dia ClaroAuthor: José de ...</td>\n",
       "      <td>AlmadaNegreiros</td>\n",
       "    </tr>\n",
       "    <tr>\n",
       "      <td>3</td>\n",
       "      <td>Title: LitoralA Amadeo de Souza CardozoAuthor:...</td>\n",
       "      <td>AlmadaNegreiros</td>\n",
       "    </tr>\n",
       "    <tr>\n",
       "      <td>4</td>\n",
       "      <td>EXPOSIÇÃO+amadeode souzacardoso+LIGA NAVAL DE ...</td>\n",
       "      <td>AlmadaNegreiros</td>\n",
       "    </tr>\n",
       "  </tbody>\n",
       "</table>\n",
       "</div>"
      ],
      "text/plain": [
       "                                                text           author\n",
       "0  Title: A Scena do OdioAuthor: José de Almada N...  AlmadaNegreiros\n",
       "1  Title: O Jardim da PierretteAuthor: José de Al...  AlmadaNegreiros\n",
       "2  Title: A Invenção do Dia ClaroAuthor: José de ...  AlmadaNegreiros\n",
       "3  Title: LitoralA Amadeo de Souza CardozoAuthor:...  AlmadaNegreiros\n",
       "4  EXPOSIÇÃO+amadeode souzacardoso+LIGA NAVAL DE ...  AlmadaNegreiros"
      ]
     },
     "execution_count": 5,
     "metadata": {},
     "output_type": "execute_result"
    }
   ],
   "source": [
    "train = get_dataframe(path_to_train=\"corpora/train/\", author_list=authors,\n",
    "                      preserve_blank_lines=False, join_every_line=True,\n",
    "                      separator=\"\")\n",
    "train.head()"
   ]
  },
  {
   "cell_type": "code",
   "execution_count": 6,
   "metadata": {
    "scrolled": false
   },
   "outputs": [
    {
     "data": {
      "text/plain": [
       "['AlmadaNegreiros',\n",
       " 'CamiloCasteloBranco',\n",
       " 'EcaDeQueiros',\n",
       " 'JoseRodriguesSantos',\n",
       " 'JoseSaramago',\n",
       " 'LuisaMarquesSilva']"
      ]
     },
     "execution_count": 6,
     "metadata": {},
     "output_type": "execute_result"
    }
   ],
   "source": [
    "train[\"author\"].unique().tolist()"
   ]
  },
  {
   "cell_type": "code",
   "execution_count": 7,
   "metadata": {},
   "outputs": [],
   "source": [
    "def remove_punctuation(text):\n",
    "    \"\"\"\n",
    "        Greedy removal of all the punctuation from a list of text lines.\n",
    "        However, it also removes the email and website punctuation, making\n",
    "        them hard to recognise.\n",
    "        Returns a list of text lines without punctuation.\n",
    "    \"\"\"\n",
    "    no_punct_text = []\n",
    "    for line in text:\n",
    "        no_punct = \"\".join([char for char in line if char not in string.punctuation])\n",
    "        no_punct_text.append(no_punct)\n",
    "    return \"\".join(no_punct_text)"
   ]
  },
  {
   "cell_type": "code",
   "execution_count": 8,
   "metadata": {},
   "outputs": [],
   "source": [
    "# cada vez que uma nova função for criada, introduzi-la em \"clean_text()\"\n",
    "\n",
    "def clean_text(df, text_col=str):\n",
    "    \"\"\"\n",
    "        Compiles all the preprocessing functions inside a single function.\n",
    "    \"\"\"\n",
    "    df[text_col] = df[text_col].apply(remove_punctuation)\n",
    "    return df"
   ]
  },
  {
   "cell_type": "code",
   "execution_count": 9,
   "metadata": {},
   "outputs": [],
   "source": [
    "# codificação da coluna y para fornecer ao futuro modelo\n",
    "\n",
    "def target_encoding(df, target_col=str):\n",
    "    \"\"\"\n",
    "        Encode the target column, i.e.:\n",
    "            - AlmadaNegreiros     -> 0;\n",
    "            - CamiloCasteloBranco -> 1;\n",
    "            ...\n",
    "    \"\"\"\n",
    "    pass"
   ]
  },
  {
   "cell_type": "code",
   "execution_count": 10,
   "metadata": {},
   "outputs": [
    {
     "data": {
      "text/html": [
       "<div>\n",
       "<style scoped>\n",
       "    .dataframe tbody tr th:only-of-type {\n",
       "        vertical-align: middle;\n",
       "    }\n",
       "\n",
       "    .dataframe tbody tr th {\n",
       "        vertical-align: top;\n",
       "    }\n",
       "\n",
       "    .dataframe thead th {\n",
       "        text-align: right;\n",
       "    }\n",
       "</style>\n",
       "<table border=\"1\" class=\"dataframe\">\n",
       "  <thead>\n",
       "    <tr style=\"text-align: right;\">\n",
       "      <th></th>\n",
       "      <th>text</th>\n",
       "      <th>author</th>\n",
       "    </tr>\n",
       "  </thead>\n",
       "  <tbody>\n",
       "    <tr>\n",
       "      <td>0</td>\n",
       "      <td>Title A Scena do OdioAuthor José de Almada Neg...</td>\n",
       "      <td>AlmadaNegreiros</td>\n",
       "    </tr>\n",
       "    <tr>\n",
       "      <td>1</td>\n",
       "      <td>Title O Jardim da PierretteAuthor José de Alma...</td>\n",
       "      <td>AlmadaNegreiros</td>\n",
       "    </tr>\n",
       "    <tr>\n",
       "      <td>2</td>\n",
       "      <td>Title A Invenção do Dia ClaroAuthor José de Al...</td>\n",
       "      <td>AlmadaNegreiros</td>\n",
       "    </tr>\n",
       "    <tr>\n",
       "      <td>3</td>\n",
       "      <td>Title LitoralA Amadeo de Souza CardozoAuthor J...</td>\n",
       "      <td>AlmadaNegreiros</td>\n",
       "    </tr>\n",
       "    <tr>\n",
       "      <td>4</td>\n",
       "      <td>EXPOSIÇÃOamadeode souzacardosoLIGA NAVAL DE LI...</td>\n",
       "      <td>AlmadaNegreiros</td>\n",
       "    </tr>\n",
       "  </tbody>\n",
       "</table>\n",
       "</div>"
      ],
      "text/plain": [
       "                                                text           author\n",
       "0  Title A Scena do OdioAuthor José de Almada Neg...  AlmadaNegreiros\n",
       "1  Title O Jardim da PierretteAuthor José de Alma...  AlmadaNegreiros\n",
       "2  Title A Invenção do Dia ClaroAuthor José de Al...  AlmadaNegreiros\n",
       "3  Title LitoralA Amadeo de Souza CardozoAuthor J...  AlmadaNegreiros\n",
       "4  EXPOSIÇÃOamadeode souzacardosoLIGA NAVAL DE LI...  AlmadaNegreiros"
      ]
     },
     "execution_count": 10,
     "metadata": {},
     "output_type": "execute_result"
    }
   ],
   "source": [
    "train = clean_text(train, \"text\")\n",
    "train.head()"
   ]
  },
  {
   "cell_type": "markdown",
   "metadata": {},
   "source": [
    "[in progress] ***brainstorm* de features interessantes:**\n",
    "- número de caracteres por linha\n",
    "- número de caracteres especiais por linha\n",
    "- número de vírgulas por frase\n",
    "- número de reticências por linha\n"
   ]
  }
 ],
 "metadata": {
  "kernelspec": {
   "display_name": "Python 3",
   "language": "python",
   "name": "python3"
  },
  "language_info": {
   "codemirror_mode": {
    "name": "ipython",
    "version": 3
   },
   "file_extension": ".py",
   "mimetype": "text/x-python",
   "name": "python",
   "nbconvert_exporter": "python",
   "pygments_lexer": "ipython3",
   "version": "3.7.4"
  }
 },
 "nbformat": 4,
 "nbformat_minor": 2
}
